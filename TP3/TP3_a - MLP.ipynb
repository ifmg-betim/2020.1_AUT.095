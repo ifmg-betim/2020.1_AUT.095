{
 "cells": [
  {
   "cell_type": "markdown",
   "metadata": {},
   "source": [
    "# TP3_a - Rede Multicamadas\n",
    "\n",
    "Bem vindo!\n",
    "Neste TP você implementará um modelo multicamadas num problema de classificação.\n",
    "\n",
    "**Instruções:**\n",
    "- Use a versão Python 3.\n",
    "- Evite sempre usar usar laços `for` e `while`, fazer contas no formato vetorial é sempre mais rápido.\n",
    "- Não apague os comentários que já existem nas células de código. Mas é claro que você pode adicionar outros comentários.\n",
    "\n",
    "**Objetivos**\n",
    "- Verificar a eficiência de cálculos vetoriais, ao invés de laços de repetição\n",
    "- Implementar um modelo multicamadas para classificar \"portas lógicas\"\n",
    "- Aplicar o algoritmo de gradiente descendente de forma *vetorizada*"
   ]
  },
  {
   "cell_type": "markdown",
   "metadata": {},
   "source": [
    "## O Jupyter notebook\n",
    "\n",
    "O Jupyter Notebook é um ambiente interativo de programação em uma página web. Nesse notebook você colocará o código entre os comentários `### SEU CÓDIGO COMEÇA AQUI ###` e `### FIM DO CÓDIGO ###`. Após escrever o código, você pode executar a célula com `Shift+Enter` ou no botão \"Run\" (com símbolo de \"play\") na barra de comandos acima.\n",
    "\n",
    "Em alguns trechos será especificado \"(≈ X linhas de código)\" nos comentários para que você tenha uma ideia sobre o tamanho do código a ser desenvolvido naquele trecho. Lembrando que é só uma estimativa, o seu código pode ficar maior ou menor do que o especificado.\n",
    "\n",
    "**Alguns atalhos úteis *no código*:**\n",
    "- `Ctrl+Enter`: executa a célula e mantém o cursor na mesma célula\n",
    "- `Shift+Enter`: executa a célula e move o cursor para a próxima célula\n",
    "- `Ctrl+/`: comenta a linha de código\n",
    "- `Shift+Tab`: quando o cursor estiver em uma função, mostra um HELP da função\n",
    "\n",
    "**Alguns atalhos úteis *na célula*:**\n",
    "- Cria nova célula `a`: acima, `b`: abaixo da céula selecionada\n",
    "- `d` (2x): deleta célula selecionada\n",
    "- `m`: define célula como texto (Markdown)\n",
    "- `y`: define célula como código (Python)\n",
    "- `l`: mostra numeração das linhas na célula de código\n",
    "- `c`: copiar, `v`: colar, `x`: recortar célula selecionada\n",
    "- `ctrl+shift+p`: mostra busca para todos comandos de célula"
   ]
  },
  {
   "cell_type": "markdown",
   "metadata": {},
   "source": [
    "## Por que vetorizar o código?\n",
    "No exercício abaixo você fará o mesmo cálculo de duas formas diferentes:\n",
    "1. utilizando laço de repetição\n",
    "1. usando cálculos matriciais\n",
    "\n",
    "Para essa parte, considere dois vetores\n",
    "- $W=[w_1 \\;\\;\\; w_2 \\;\\;\\; w_3 \\;\\;\\; w_4 \\;\\;\\; \\cdots \\;\\;\\; w_m],$\n",
    "- $X=[x_1 \\;\\;\\; x_2 \\;\\;\\; x_3 \\;\\;\\; x_4 \\;\\;\\; \\cdots \\;\\;\\; x_m],$\n",
    "\n",
    "ambos de tamanho $(1,m)$, em que se deseja calcular $v$ sendo:\n",
    "- $v=w_1x_1 + w_2x_2 + w_3x_3 + w_4x_4 + \\cdots + w_mx_m.$\n",
    "\n",
    "\n",
    "O código já implementado abaixo realiza os cálculos de $v$ usando o laço de repetição `for` e armazena o resultado na variável `v1`. Além disso, o código mede o tempo de processamento gasto para fazer essa operação. Implemente uma forma vetorizada de calcular $v$ e armazene o resultado na variável `v2`. Como já implementado no código abaixo, meça também o tempo de execução dessa forma de calcular e mostre o tempo gasto em *ms*. O código abaixo também verifica se `v1`≈`v2`, se for exibida a mensagem *\"==> ATENÇÃO, a conta que está fazendo para v2 NÃO é igual para v1. Tente novamente...\"*, significa que não está fazendo a conta que deveria."
   ]
  },
  {
   "cell_type": "code",
   "execution_count": null,
   "metadata": {
    "scrolled": true
   },
   "outputs": [],
   "source": [
    "import numpy as np\n",
    "import matplotlib.pyplot as plt\n",
    "import time #biblioteca para medir tempo de execução\n",
    "\n",
    "# variáveis usadas\n",
    "m = 100000 # número de elementos dos vetores\n",
    "W = np.random.rand(m)\n",
    "X = np.random.rand(m)\n",
    "v1 = 0 #cálculo de v usando laço de repetição\n",
    "v2 = 0 #cálculo de v usando operação vetorial\n",
    "\n",
    "\n",
    "tic = time.time() # <=== INÍCIO da contagem de tempo\n",
    "\n",
    "# Implementação 1: usando laço FOR\n",
    "v1 = 0 # incializa para acumular valores\n",
    "for k in range(m):\n",
    "    v1 = v1 + W[k]*X[k] #multiplicação ponto a ponto\n",
    "\n",
    "tac = time.time() # <=== FIM da contagem de tempo\n",
    "print('1) Tempo usando laço de repetição: ' + str(1000*(tac-tic)) + 'ms')\n",
    "\n",
    "\n",
    "### SEU CÓDIGO COMEÇA AQUI ### (≈4 linhas de código)\n",
    "\n",
    "\n",
    "### FIM DO CÓDIGO ###\n",
    "\n",
    "\n",
    "# verifica se v1≈v2\n",
    "if int(v2)==int(v1): print('\\n ==> OK, a variável v1 é aproximadamente igual a v2!')\n",
    "else: print('\\n ==> ATENÇÃO, a conta que está fazendo para v2 NÃO é igual para v1. Tente novamente...')"
   ]
  },
  {
   "cell_type": "markdown",
   "metadata": {},
   "source": [
    "**Saída esperada** *(os valores abaixo podem alterar de acordo com o hardware utilizado!)*\n",
    "\n",
    "`1) Tempo usando laço de repetição: 115.69094657897949ms`\n",
    "\n",
    "`2) Tempo usando vetorização: 0.9982585906982422ms`\n",
    "\n",
    "` ==> OK, a variável v1 é aproximadamente igual a v2!`\n",
    "___\n",
    "\n",
    "## Problema do XOR: gerando dados\n",
    "\n",
    "O código abaixo gera um conjunto de dados com 100 amostras, $m=100$, de um problema de classificação.\n",
    "\n",
    "1. Rode o código abaixo e observe que as classes não são linearmente separáveis\n",
    "1. Observe também que os dados de entrada estão organizados numa única matriz X_tr\n",
    "\n",
    "Obs.: essa parte é só rodar o código abaixo, não precisa escrever nada na célula abaixo."
   ]
  },
  {
   "cell_type": "code",
   "execution_count": 81,
   "metadata": {
    "scrolled": true
   },
   "outputs": [
    {
     "data": {
      "image/png": "[encoded data removed]",
      "text/plain": [
       "<Figure size 400x300 with 1 Axes>"
      ]
     },
     "metadata": {},
     "output_type": "display_data"
    }
   ],
   "source": [
    "import numpy as np\n",
    "import matplotlib.pyplot as plt\n",
    "\n",
    "# dados de treinamento\n",
    "m = 100\n",
    "X_tr = np.random.randint(2, size=(2,m))\n",
    "Y_tr = np.logical_xor(X_tr[0,:], X_tr[1,:]).astype(int)*2-1\n",
    "X_tr = X_tr*2-1 + np.random.normal(0, .3, (2,m)) # adicionando ruído\n",
    "\n",
    "plt.figure(figsize=(4,3), dpi=100)\n",
    "plt.plot(X_tr[0, Y_tr<0], X_tr[1, Y_tr<0], 'o', c='blue')\n",
    "plt.plot(X_tr[0, Y_tr>0], X_tr[1, Y_tr>0], 's', c='red')\n",
    "\n",
    "plt.legend(('$y=0$','$y=1$'))\n",
    "plt.xlim((-2, 2.8))\n",
    "plt.ylim((-2, 2.8))\n",
    "plt.xlabel('$x_1$')\n",
    "plt.ylabel('$x_2$')\n",
    "plt.show()"
   ]
  },
  {
   "cell_type": "markdown",
   "metadata": {},
   "source": [
    "___"
   ]
  },
  {
   "cell_type": "markdown",
   "metadata": {},
   "source": [
    "## Perceptron de multicamadas (MLP)\n",
    "\n",
    "Nessa parte você implementará um modelo *multicamadas* usando a função de ativação sigmóide (mesma utilizada anteriormente).\n",
    "\n",
    "1. A arquitetura da rede neural a ser implementada é\n",
    "   + $L$, número de camadas da rede: 2\n",
    "   + $n^{[0]}$, número de entradas: 2\n",
    "   + $n^{[1]}$, número de nós na camada escondida: 2\n",
    "   + $n^{[2]}$, número de saídas: 1\n",
    "   + $\\sigma(v)$, função de ativação: $\\sigma(v)=1/(1+e^{-v})$\n",
    "\n",
    "Para facilitar nas contas, crie uma função `sigmoide(v)` que implementa $\\sigma(v)$. Opcionalmente, você pode criar também uma função `neuronio(X, W, b)` para implementar o neurônio, contudo, o cálculo da saída `Y` **deve** ser feito de forma vetorial, considerando a *matriz* `X` e o *vetor* `W` de dimensões apropriadas. Note que a saída `Y` é também um *vetor*.\n",
    "\n",
    "Implemente abaixo como você calcularia o vetor `Y_aux` para a matriz `X_aux`, vetor `W_aux`, escalar `b_aux` mostrados abaixo. Ao final, mostre o resultado de `Y_aux`."
   ]
  },
  {
   "cell_type": "code",
   "execution_count": 120,
   "metadata": {},
   "outputs": [],
   "source": [
    "# entrada e pesos de teste\n",
    "X_aux = np.array([[1, -2, 3, -4, 5, -6],[-7, 8, -9, 10, -11, 12]])\n",
    "W_aux = np.array([[-.2], [.1]])\n",
    "b_aux = .2\n",
    "\n",
    "\n",
    "### SEU CÓDIGO COMEÇA AQUI ###\n",
    "\n",
    "\n",
    "### FIM DO CÓDIGO ###   "
   ]
  },
  {
   "cell_type": "markdown",
   "metadata": {},
   "source": [
    "**Saída esperada**\n",
    "\n",
    "`Y_aux = [[ 0.33181223  0.80218389  0.21416502  0.88079708  0.13010847  0.93086158]]`\n",
    "___\n",
    "\n",
    "## Treinamento do modelo logístico\n",
    "\n",
    "**Sugestão**. Para aferir que a sua versão vetorizada do treinamento funciona, implemente o algoritmo vetorizado no problema do TP2 e compare com seus resultados da implementação não vetorizada.\n",
    "\n",
    "\n",
    "Nessa parte do trabalho você deve implementar o algoritmo de treinamento do modelo para o problema de classificação XOR. Implemente o código de aprendizado do gradiente descendente de forma ***vetorizada*** (obrigatoriamente).\n",
    "\n",
    "**Sugestão**. Para aferir que a sua versão vetorizada do treinamento funciona, implemente o algoritmo vetorizado no problema do TP2 e compare com seus resultados da implementação não vetorizada.\n",
    "\n",
    "Durante o treinamento, você deve calcular a função custo $J(W, b)$ para cada época. Ao final do treinamento, você deve mostrar um gráfico de $J(W, b)$ pelo número de épocas de treinamento.\n",
    "\n",
    "Como feito anteriormente, você deve gerar 50 amostras de validação (copie a forma de gerar dados da primeira parte). Com esses dados de validação, calcule $J_{val}(W, b)$. Lembre-se: o valor de $J_{val}(W, b)$ é uma estimativa do erro de *generalização*. Imprima o valor de $J_{val}(W, b)$.\n",
    "\n",
    "Ao final da implementação, espera-se as informações ao final do código abaixo:\n",
    "1. Para o modelo treinado, exiba o valor de $J(W, b)$ (treinamento) e também o valor de $J_{val}(W, b)$ calculado nos dados de validação;\n",
    "1. Valor da função custo $J(W, b)$ (treinamento) pelo número de épocas de treinamento;\n",
    "1. Para os dados de ***validação***, faça um gráfico com os valores das entradas (como na parte \"gerando dados\" desse TP) e, por meio de símbolos e cores, registre quais pontos foram classificados corretamente (ex. colocar um círculo verde, usando 'og' no plot) e quais não foram classificados corretamente pelo modelo (ex. colocar um xis preto, usando 'xk' no plot). Para classificar, considere $y^{(i)}>0,5$ da classe \"1\" e considere $y^{(i)}<0,5$ da classe \"0\"."
   ]
  },
  {
   "cell_type": "code",
   "execution_count": null,
   "metadata": {},
   "outputs": [],
   "source": [
    "### SEU CÓDIGO COMEÇA AQUI ###\n",
    "\n",
    "### FIM DO CÓDIGO ###"
   ]
  },
  {
   "cell_type": "markdown",
   "metadata": {},
   "source": [
    "**Saída esperada**:\n",
    "- Informação: informar o valor da função custo $J$ para os dados de treinamento e de $J_{val}$ para os dados de validação\n",
    "- Gráfico 1: valor da função custo $J$ para cada época. O gráfico de ter no *eixo horizontal*: número da \"época\"; e no *eixo vertical*: valor da função custo calculada nos dados de treinamento.\n",
    "- Gráfico 2: gráfico das entradas, similar ao da primeira parte desta atividade, para os dados de **validação**, mostrando para cada entrada se aquele ponto foi classificado corretamente ou não, através de diferentes símbolos para cada caso.\n",
    "___\n",
    "\n",
    "## Desafio! (opcional, você não perderá nenhum ponto se deixar de fazer essa parte)\n",
    "\n",
    "Se este trabalho foi fácil para você até aqui, você pode tentar um novo desafio: utilizar o algoritmo de aprendizado implementado nos dados da Iris. Esses dados podem ser obtidos no site https://archive.ics.uci.edu/ml/datasets/Iris, que contém também uma descrição mais completa do problema.\n",
    "\n",
    "Implemente o algoritmo de aprendizado fazendo os ajustes necessários. Ao final, mostre o ressultado do algoritmo de aprendizado para os **dados de validação**. Não se esqueça de segregar o conjunto de dados em: treinamento (~80%) e validação (~20%). Mostre o percentual de acerto nesses dados.\n",
    "\n",
    "Note que são **3 espécies** (Setosa, Versicolour, Virginica) diferentes de Íris. A Íris Setosa é linearmente separável das demais, portanto, é possível distingui-la com um neurônio apenas. Contudo, a rede MLP permite distinguir as espécies *Íris Versicolour* e *Íris Virginica* mesmo *não sendo linearmente separáveis* (veja imagem abaixo).\n",
    "\n",
    "<p><a href=\"https://commons.wikimedia.org/wiki/File:Iris_dataset_scatterplot.svg#/media/File:Iris_dataset_scatterplot.svg\"><img src=\"https://upload.wikimedia.org/wikipedia/commons/thumb/5/56/Iris_dataset_scatterplot.svg/1200px-Iris_dataset_scatterplot.svg.png\" alt=\"Iris dataset scatterplot.svg\"></a><br>By <a href=\"//commons.wikimedia.org/wiki/User:Nicoguaro\" title=\"User:Nicoguaro\">Nicoguaro</a> - <span class=\"int-own-work\" lang=\"en\">Own work</span>, <a href=\"https://creativecommons.org/licenses/by/4.0\" title=\"Creative Commons Attribution 4.0\">CC BY 4.0</a>, <a href=\"https://commons.wikimedia.org/w/index.php?curid=46257808\">Link</a></p>\n",
    "\n",
    "\n",
    "Assim, implemente sua rede neural para distinguir as espécies *Íris Versicolour* e *Íris Virginica*. Ignore os dados da Íris Setosa.\n",
    "\n",
    "Bom trabalho!"
   ]
  },
  {
   "cell_type": "code",
   "execution_count": null,
   "metadata": {},
   "outputs": [],
   "source": [
    "### SEU CÓDIGO COMEÇA AQUI ###\n",
    "\n",
    "### FIM DO CÓDIGO ###"
   ]
  },
  {
   "cell_type": "markdown",
   "metadata": {},
   "source": [
    "**Saída esperada**:\n",
    "- Índice de acerto nos dados de validação.\n",
    "- Gráfico de função custo vs épocas de treinamento\n",
    "- Outras informações relevantes\n",
    "___"
   ]
  },
  {
   "cell_type": "markdown",
   "metadata": {},
   "source": [
    "\n",
    "\n",
    "# Conclusões\n",
    "\n",
    "Escreva aqui, em linguagem `markdown`, suas considerações sobre o que foi aprendido nesse trabalho prático.\n",
    "\n",
    "*### escreva aqui ###*"
   ]
  }
 ],
 "metadata": {
  "kernelspec": {
   "display_name": "Python 3",
   "language": "python",
   "name": "python3"
  },
  "language_info": {
   "codemirror_mode": {
    "name": "ipython",
    "version": 3
   },
   "file_extension": ".py",
   "mimetype": "text/x-python",
   "name": "python",
   "nbconvert_exporter": "python",
   "pygments_lexer": "ipython3",
   "version": "3.6.3"
  },
  "toc": {
   "nav_menu": {
    "height": "228px",
    "width": "370px"
   },
   "number_sections": true,
   "sideBar": true,
   "skip_h1_title": false,
   "title_cell": "Table of Contents",
   "title_sidebar": "Contents",
   "toc_cell": false,
   "toc_position": {},
   "toc_section_display": true,
   "toc_window_display": false
  }
 },
 "nbformat": 4,
 "nbformat_minor": 2
}
