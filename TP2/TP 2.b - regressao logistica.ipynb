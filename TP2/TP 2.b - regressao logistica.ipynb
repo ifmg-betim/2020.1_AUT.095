{
 "cells": [
  {
   "cell_type": "markdown",
   "metadata": {},
   "source": [
    "# TP2_B - Regressão logística em portas lógicas\n",
    "\n",
    "Bem vindo!\n",
    "Neste TP você implementará uma regressão logística.\n",
    "\n",
    "**Instruções:**\n",
    "- Use a versão Python 3.\n",
    "- Evite sempre usar usar laços `for` e `while`, fazer contas no formato vetorial é sempre mais rápido.\n",
    "- Não apague os comentários que já existem nas células de código. Mas é claro que você pode adicionar outros comentários.\n",
    "\n",
    "**Objetivos**\n",
    "- Implementar regressão logística para classificar \"portas lógicas\"\n",
    "- Aplicar o algoritmo de gradiente descendente\n",
    "- Verificar na prática a funcionalidade do algoritmo"
   ]
  },
  {
   "cell_type": "markdown",
   "metadata": {},
   "source": [
    "## O Jupyter notebook\n",
    "\n",
    "O Jupyter Notebook é um ambiente interativo de programação em uma página web. Nesse notebook você colocará o código entre os comentários `### SEU CÓDIGO COMEÇA AQUI ###` e `### FIM DO CÓDIGO ###`. Após escrever o código, você pode executar a célula com `Shift+Enter` ou no botão \"Run\" (com símbolo de \"play\") na barra de comandos acima.\n",
    "\n",
    "Em alguns trechos será especificado \"(≈ X linhas de código)\" nos comentários para que você tenha uma ideia sobre o tamanho do código a ser desenvolvido naquele trecho. Lembrando que é só uma estimativa, o seu código pode ficar maior ou menor do que o especificado.\n",
    "\n",
    "**Alguns atalhos úteis *no código*:**\n",
    "- `Ctrl+Enter`: executa a célula e mantém o cursor na mesma célula\n",
    "- `Shift+Enter`: executa a célula e move o cursor para a próxima célula\n",
    "- `Ctrl+/`: comenta a linha de código\n",
    "- `Shift+Tab`: quando o cursor estiver em uma função, mostra um HELP da função\n",
    "\n",
    "**Alguns atalhos úteis *na célula*:**\n",
    "- Cria nova célula `a`: acima, `b`: abaixo da céula selecionada\n",
    "- `d` (2x): deleta célula selecionada\n",
    "- `m`: define célula como texto (Markdown)\n",
    "- `y`: define célula como código (Python)\n",
    "- `l`: mostra numeração das linhas na célula de código\n",
    "- `c`: copiar, `v`: colar, `x`: recortar célula selecionada\n",
    "- `ctrl+shift+p`: mostra busca para todos comandos de célula"
   ]
  },
  {
   "cell_type": "markdown",
   "metadata": {},
   "source": [
    "## Gerando dados\n",
    "O código abaixo gera um conjunto de dados com 100 amostras, $m=100$, de um problema de classificação. Primeiramente, você ajustará, manualmente, uma rede neural que consiga classificar os dados abaixo.\n",
    "\n",
    "1. Rode o código abaixo e observe que as classes não são linearmente separáveis na maioria das realizações (cada vez que o código é rodado, são sorteados novos dados)\n",
    "\n",
    "Obs.: essa parte é só rodar o código abaixo, não precisa escrever nada na célula abaixo."
   ]
  },
  {
   "cell_type": "code",
   "execution_count": null,
   "metadata": {
    "scrolled": true
   },
   "outputs": [],
   "source": [
    "import numpy as np\n",
    "import matplotlib.pyplot as plt\n",
    "\n",
    "# dados de treinamento\n",
    "m = 100\n",
    "x1_tr = np.random.randint(2, size=m)\n",
    "x2_tr = np.random.randint(2, size=m)\n",
    "y_tr = np.logical_or(x1_tr, x2_tr).astype(int)*2-1\n",
    "x1_tr = x1_tr*2-1 + np.random.normal(0, .4, m) # adicionando ruído\n",
    "x2_tr = x2_tr*2-1 + np.random.normal(0, .4, m) # adicionando ruído\n",
    "\n",
    "plt.figure(figsize=(4,3), dpi=100)\n",
    "plt.plot(x1_tr[y_tr<0], x2_tr[y_tr<0], 'o', c='blue')\n",
    "plt.plot(x1_tr[y_tr>0], x2_tr[y_tr>0], 's', c='red')\n",
    "\n",
    "plt.legend(('$y=0$','$y=1$'))\n",
    "plt.xlim((-2, 2.8))\n",
    "plt.ylim((-2, 2.8))\n",
    "plt.xlabel('$x_1$')\n",
    "plt.ylabel('$x_2$')\n",
    "plt.show()"
   ]
  },
  {
   "cell_type": "markdown",
   "metadata": {},
   "source": [
    "___"
   ]
  },
  {
   "cell_type": "markdown",
   "metadata": {},
   "source": [
    "## Modelo logístico\n",
    "\n",
    "Nessa parte você implementará o modelo de regressão logística.\n",
    "1. O modelo classificador será um único neurônio com a ***função logística*** dada por: $\\hat{y}^{(i)}= \\sigma\\left(w_1 x_1^{(i)} + w_2 x_2^{(i)} + b\\right)$, em que $\\sigma(v)=1/(1-e^{-v})$\n",
    "1. Note que, nesse modelo, a saída é um número que representa a probabilidade de pertencer à classe $y=1$, i.e., $\\hat{y}=P(y=1\\,|\\,x)$, sendo que uma saída $\\hat{y}=0$ significa certeza absoluta do algoritmo que a saída é da classe \"zero\"; e $\\hat{y}=1$ indica certeza de pertencer à classe \"um\"\n",
    "\n",
    "Crie agora a função `neuLog()` que fará o papel do neurônio com função de ativação logística. Essa função calculará a saída do modelo, baseado nos dados de entrada e nos valores dos parâmetros. A equação do perceptron de camada única é dada por:\n",
    "\n",
    "$\\hat{y}^{(i)}= \\sigma\\left(w_1 x_1^{(i)} + w_2 x_2^{(i)} + b\\right)$\n",
    "\n",
    "1. Nome da função:\n",
    "  + `neuLog(x1, x2, w1, w2, b)`\n",
    "1. Entradas:\n",
    "  + $x1$: valor da primeira entrada, escalar, no formato `type(x1)=float`\n",
    "  + $x2$: valor da segunda entrada, escalar, no formato `type(x2)=float`\n",
    "  + $w1$: primeiro valor de peso, escalar, no formato `type(w1)=float`\n",
    "  + $w2$: segundo valor de peso, escalar, no formato `type(w2)=float`\n",
    "  + $b$: valor do parâmetro bias, escalar, no formato `type(b)=float`\n",
    "1. Saída:\n",
    "  + $\\hat{y}$: saída estimada pelo modelo, escalar, no formato `type(yh)=float`\n",
    "\n",
    "A função deve fazer o seguinte:\n",
    "   + calcular $\\hat{y}$ a partir das entradas $x_1$ e $x_2$, e a partir dos parâmetros $w_1$, $w_2$ e $b$.\n",
    "\n",
    "Ao final, teste a função usando os parâmetros $w_1=1$, $w_2=0$ e $b=0$, com a segunda entrada fixa em $x_2=0$. Para $x_1$, teste em três situações:\n",
    "1. $x_1\\approx\\infty$ (i.e., um número muito grande): em que espera-se uma saída $\\hat{y}\\approx 1$\n",
    "1. $x_1\\approx -\\infty$ (i.e., um número muito negativo): em que espera-se uma saída $\\hat{y}\\approx -1$\n",
    "1. $x_1=0$: em que espera-se $\\hat{y}=0,5$\n",
    "\n",
    "Teste cada caso acima e dê um `print` após cada resultado."
   ]
  },
  {
   "cell_type": "code",
   "execution_count": 9,
   "metadata": {},
   "outputs": [],
   "source": [
    "### SEU CÓDIGO COMEÇA AQUI ###\n",
    "\n",
    "### FIM DO CÓDIGO ###"
   ]
  },
  {
   "cell_type": "markdown",
   "metadata": {},
   "source": [
    "**Saída esperada**\n",
    "\n",
    "yh = 0.9999999\n",
    "\n",
    "yh = 0.0000001\n",
    "\n",
    "yh = 0.5\n",
    "___\n",
    "\n",
    "## Treinamento do modelo logístico\n",
    "\n",
    "Nessa parte do trabalho você fará a implementação do treinamento dos parâmetros $w1$, $w2$ e $b$ do modelo de regressão logística, baseado nos dados de treinamento. Implemente o código de aprendizado do gradiente descendente visto em aula. Note que, na aula, foi mostrado um passo do algoritmo (uma \"época\"). Seu código deve executar `N` épocas de treinamento. Note que `N` deve ser uma variável no seu código, para que você teste livremente a influência desse número no aprendizado do modelo.\n",
    "\n",
    "Durante o treinamento, você deve calcular a função custo, $J(w_1, w_2, b)$ para cada época. Ao final do treinamento, você deve mostrar um gráfico de $J(w_1, w_2, b)$ pelo número de épocas de treinamento.\n",
    "\n",
    "Como feito anteriormente, você deve gerar 50 amostras de validação (copie a forma de gerar dados da primeira parte) e fazer um gráfico mostrando todos os dados de teste (como foi feito na primeira parte desta atividade) e o limiar de separação. Note que, para o modelo logístico, se considerarmos $\\hat{y}>0,5$ sendo da classe \"1\" e $\\hat{y}<0,5$ sendo da classe \"0\", teremos o limiar de separação calculado da mesma forma da primeira parte do trabalho, i.e., com $v=0$. Ou seja, a forma de mostrar o limiar de separação dos dados é a mesma da primeira parte do TP2. Use essa informação para plotar o limiar de separabilidade dos dados.\n",
    "\n",
    "Espera-se dois gráficos ao final do código abaixo: i) função custo pelo número de épocas de treinamento; e ii) gráfico mostrando os dados de entrada e o respectivo limiar de separação do algoritmo."
   ]
  },
  {
   "cell_type": "code",
   "execution_count": null,
   "metadata": {},
   "outputs": [],
   "source": [
    "### SEU CÓDIGO COMEÇA AQUI ###\n",
    "\n",
    "### FIM DO CÓDIGO ###"
   ]
  },
  {
   "cell_type": "markdown",
   "metadata": {},
   "source": [
    "**Saída esperada**:\n",
    "- Gráfico 1: valor da função custo $J$ para cada época. O gráfico de ter no *eixo horizontal*: número da \"época\"; e no *eixo vertical*: valor da função custo calculada nos dados de treinamento.\n",
    "- Gráfico 2: gráfico das entradas, similar ao da primeira parte desta atividade, mas mostrando também o limiar de separação do modelo treinado.\n",
    "___\n",
    "\n",
    "## Desafio! (opcional, você não perderá nenhum ponto se deixar de fazer essa parte)\n",
    "\n",
    "Se este trabalho foi fácil para você até aqui, você pode tentar um novo desafio: utilizar o algoritmo de aprendizado implementado nos dados da Iris. Esses dados podem ser obtidos no site https://archive.ics.uci.edu/ml/datasets/Iris, que contém também uma descrição mais completa do problema.\n",
    "\n",
    "Implemente o algoritmo de aprendizado fazendo os ajustes necessários. Ao final, mostre o ressultado do algoritmo de aprendizado para os **dados de validação**. Não se esqueça de segregar o conjunto de dados em: treinamento (~80%) e validação (~20%). Mostre o percentual de acerto nesses dados.\n",
    "\n",
    "Bom trabalho!"
   ]
  },
  {
   "cell_type": "code",
   "execution_count": null,
   "metadata": {},
   "outputs": [],
   "source": [
    "### SEU CÓDIGO COMEÇA AQUI ###\n",
    "\n",
    "### FIM DO CÓDIGO ###"
   ]
  },
  {
   "cell_type": "markdown",
   "metadata": {},
   "source": [
    "**Saída esperada**:\n",
    "- Índice de acerto nos dados de validação.\n",
    "- Gráfico de função custo vs épocas de treinamento\n",
    "___"
   ]
  },
  {
   "cell_type": "markdown",
   "metadata": {},
   "source": [
    "\n",
    "\n",
    "# Conclusões\n",
    "\n",
    "Escreva aqui, em linguagem `markdown`, suas considerações sobre o que foi aprendido nesse trabalho prático.\n",
    "\n",
    "*### escreva aqui ###*"
   ]
  }
 ],
 "metadata": {
  "kernelspec": {
   "display_name": "Python 3",
   "language": "python",
   "name": "python3"
  },
  "language_info": {
   "codemirror_mode": {
    "name": "ipython",
    "version": 3
   },
   "file_extension": ".py",
   "mimetype": "text/x-python",
   "name": "python",
   "nbconvert_exporter": "python",
   "pygments_lexer": "ipython3",
   "version": "3.6.3"
  },
  "toc": {
   "nav_menu": {
    "height": "228px",
    "width": "370px"
   },
   "number_sections": true,
   "sideBar": true,
   "skip_h1_title": false,
   "title_cell": "Table of Contents",
   "title_sidebar": "Contents",
   "toc_cell": false,
   "toc_position": {},
   "toc_section_display": true,
   "toc_window_display": false
  }
 },
 "nbformat": 4,
 "nbformat_minor": 2
}
