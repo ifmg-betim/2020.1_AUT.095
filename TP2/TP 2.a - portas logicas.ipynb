{
 "cells": [
  {
   "cell_type": "markdown",
   "metadata": {},
   "source": [
    "# TP2_A - Classificação Portas Lógicas\n",
    "\n",
    "Bem vindo!\n",
    "Neste TP você implementará um algoritmo de classificação.\n",
    "\n",
    "**Instruções:**\n",
    "- Use a versão Python 3.\n",
    "- Evite sempre usar usar laços `for` e `while`, fazer contas no formato vetorial é sempre mais rápido.\n",
    "- Não apague os comentários que já existem nas células de código. Mas é claro que você pode adicionar outros comentários.\n",
    "\n",
    "**Objetivos**\n",
    "- Implementar perceptron de camada única para classificar \"portas lógicas\"\n",
    "- Aplicar o algoritmo de aprendizado do perceptron\n",
    "- Verificar na prática convergência do perceptron para problemas linearmente separáveis"
   ]
  },
  {
   "cell_type": "markdown",
   "metadata": {},
   "source": [
    "## O Jupyter notebook\n",
    "\n",
    "O Jupyter Notebook é um ambiente interativo de programação em uma página web. Nesse notebook você colocará o código entre os comentários `### SEU CÓDIGO COMEÇA AQUI ###` e `### FIM DO CÓDIGO ###`. Após escrever o código, você pode executar a célula com `Shift+Enter` ou no botão \"Run\" (com símbolo de \"play\") na barra de comandos acima.\n",
    "\n",
    "Em alguns trechos será especificado \"(≈ X linhas de código)\" nos comentários para que você tenha uma ideia sobre o tamanho do código a ser desenvolvido naquele trecho. Lembrando que é só uma estimativa, o seu código pode ficar maior ou menor do que o especificado.\n",
    "\n",
    "**Alguns atalhos úteis *no código*:**\n",
    "- `Ctrl+Enter`: executa a célula e mantém o cursor na mesma célula\n",
    "- `Shift+Enter`: executa a célula e move o cursor para a próxima célula\n",
    "- `Ctrl+/`: comenta a linha de código\n",
    "- `Shift+Tab`: quando o cursor estiver em uma função, mostra um HELP da função\n",
    "\n",
    "**Alguns atalhos úteis *na célula*:**\n",
    "- Cria nova célula `a`: acima, `b`: abaixo da céula selecionada\n",
    "- `d` (2x): deleta célula selecionada\n",
    "- `m`: define célula como texto (Markdown)\n",
    "- `y`: define célula como código (Python)\n",
    "- `l`: mostra numeração das linhas na célula de código\n",
    "- `c`: copiar, `v`: colar, `x`: recortar célula selecionada\n",
    "- `ctrl+shift+p`: mostra busca para todos comandos de célula"
   ]
  },
  {
   "cell_type": "markdown",
   "metadata": {},
   "source": [
    "## Dados linearmente separáveis\n",
    "O código abaixo gera um conjunto de dados com 100 amostras, $m=100$, de um problema de classificação. Primeiramente, você ajustará, manualmente, uma rede neural que consiga classificar os dados abaixo.\n",
    "\n",
    "1. Rode o código abaixo e observe que as classes são linearmente separáveis na maioria das realizações (cada vez que o código é rodado, são sorteados novos dados)\n",
    "1. O modelo classificador será o Perceptron de camada única, dado por: $\\hat{y}^{(i)}= \\textrm{sign}\\left(w_1 x_1^{(i)} + w_2 x_2^{(i)} + b\\right)$\n",
    "1. Ajuste, manualmente, os valores dos pesos $w_1$, $w_2$ e $b$ de modo que o modelo consiga classificar os dados corretamente\n",
    "1. Faça, no mesmo gráfico mostrado, uma reta representando o limiar de decisão do Perceptron"
   ]
  },
  {
   "cell_type": "code",
   "execution_count": null,
   "metadata": {
    "scrolled": true
   },
   "outputs": [],
   "source": [
    "import numpy as np\n",
    "import matplotlib.pyplot as plt\n",
    "\n",
    "# dados de treinamento\n",
    "m = 100\n",
    "x1_tr = np.random.randint(2, size=m)\n",
    "x2_tr = np.random.randint(2, size=m)\n",
    "y_tr = np.logical_and(x1_tr, x2_tr).astype(int)*2-1\n",
    "x1_tr = x1_tr*2-1 + np.random.normal(0, .2, m) # adicionando ruído\n",
    "x2_tr = x2_tr*2-1 + np.random.normal(0, .2, m) # adicionando ruído\n",
    "\n",
    "plt.figure(figsize=(4,3), dpi=100)\n",
    "plt.plot(x1_tr[y_tr<0], x2_tr[y_tr<0], 'o', c='blue')\n",
    "plt.plot(x1_tr[y_tr>0], x2_tr[y_tr>0], 's', c='red')\n",
    "\n",
    "### SEU CÓDIGO COMEÇA AQUI ### (≈ 5 linhas de código)\n",
    "\n",
    "\n",
    "### FIM DO CÓDIGO ###\n",
    "\n",
    "plt.legend(('$y=0$','$y=1$'))\n",
    "plt.xlim((-2, 2.8))\n",
    "plt.ylim((-2, 2.8))\n",
    "plt.xlabel('$x_1$')\n",
    "plt.ylabel('$x_2$')\n",
    "plt.show()"
   ]
  },
  {
   "cell_type": "markdown",
   "metadata": {},
   "source": [
    "**Saída esperada**\n",
    "\n",
    "<img src=\"files/TP2_a_resultadoEsperado01.png\">\n",
    "___"
   ]
  },
  {
   "cell_type": "markdown",
   "metadata": {},
   "source": [
    "## Perceptron de camada única\n",
    "\n",
    "Crie agora a função `percep1()` que fará o papel da rede neural. Essa função calculará a saída do perceptron de camada única, baseado nos dados de entrada e nos valores dos pesos. A equação do perceptron de camada única é dada por:\n",
    "\n",
    "$\\hat{y}^{(i)}= \\textrm{sign}\\left(w_1 x_1^{(i)} + w_2 x_2^{(i)} + b\\right)$\n",
    "\n",
    "\n",
    "Lembre-se que $\\hat{y}\\in\\{-1,1\\}$. Assim, a saída da função só pode fornecer os valores $-1$ ou $+1$.\n",
    "\n",
    "1. Nome da função:\n",
    "  + `percep1(x1, x2, w1, w2, b)`\n",
    "1. Entradas:\n",
    "  + $x1$: valor da primeira entrada, escalar, no formato `type(x1)=float`\n",
    "  + $x2$: valor da segunda entrada, escalar, no formato `type(x2)=float`\n",
    "  + $w1$: primeiro valor de peso, escalar, no formato `type(w1)=float`\n",
    "  + $w2$: segundo valor de peso, escalar, no formato `type(w2)=float`\n",
    "  + $b$: valor do parâmetro bias, escalar, no formato `type(b)=float`\n",
    "1. Saída:\n",
    "  + $\\hat{y}$: saída estimada pelo modelo, escalar, no formato `type(yh)=int`\n",
    "\n",
    "A função deve fazer o seguinte:\n",
    "   + calcular $\\hat{y}$ a partir das entradas $x1$ e $x2$, e a partir dos parâmetros $w1$, $w2$ e $b$.\n",
    "\n",
    "Ao final, teste a função usando os parâmetros $w1$, $w2$ e $b$ ajustados manualmente na etapa anterior para todos os $m=100$ dados gerados. Ao final, calcule e mostre (comando `print`) o erro quadrático médio (*mean squared error*, MSE) do resultado. Espera-se `MSE≈0`."
   ]
  },
  {
   "cell_type": "code",
   "execution_count": 9,
   "metadata": {},
   "outputs": [],
   "source": [
    "### SEU CÓDIGO COMEÇA AQUI ###\n",
    "\n",
    "### FIM DO CÓDIGO ###"
   ]
  },
  {
   "cell_type": "markdown",
   "metadata": {},
   "source": [
    "**Saída esperada**\n",
    "MSE = 0.0\n",
    "___\n",
    "\n",
    "## Treinamento do Perceptron de camada única\n",
    "\n",
    "Para ajustar os parâmetros $w1$, $w2$ e $b$ de forma automática, baseado nos dados de treinamento, a seguinte regra de aprendizado pode ser utilizada:\n",
    "\n",
    "$w_i^{(k)} = w_i^{(k-1)} + \\Delta w_i^{(k-1)},\\,\\,\\,\\,\\,\\,\\,$    (1)\n",
    "\n",
    "$b^{(k)} = b^{(k-1)} + \\Delta b^{(k-1)},\\,\\,\\,\\,\\,\\,\\,$    (2)\n",
    "\n",
    "em que $w_i^{(k)}$ representa o $i$-ésimo peso da $k$-ésima iteração do algoritmo de aprendizado, e tem-se:\n",
    "\n",
    "$\\Delta w_i^{(k)}=\\eta [y-\\hat{y}]x_i^{(k)},\\,\\,\\,\\,\\,\\,\\,$    (3)\n",
    "\n",
    "$\\Delta b^{(k)}=\\eta [y-\\hat{y}],\\,\\,\\,\\,\\,\\,\\,$    (4)\n",
    "\n",
    "sendo $\\eta$ o hiperparâmetro que controla a *taxa de aprendizado* do algoritmo.\n",
    "\n",
    "Implemente o algoritmo de aprendizado do perceptron de camada única, com as seguintes características:\n",
    "1. Devem ser usados os mesmos dados de treinamento da primeira parte dessa atividade\n",
    "1. A função `percep1()` desenvolvida anteriormente também deve ser utilizada\n",
    "1. Seu código, antes de iniciar o laço de aprendizado propriamente, deve iniciar os valores dos pesos $w1$, $w2$ e $b$ de forma aleatória\n",
    "1. O valor da taxa de aprendizado $\\eta$ também deve ser iniciado antes do laço\n",
    "1. O aprendizado deve ocorrer dentro de um laço `for` que passe por todos os dados de treinamento por, pelo menos, uma vez em cada dado (o algoritmo pode passar mais de uma vez pelo mesmo dado de treinamento!)\n",
    "1. Dentro do laço, seu código deve fazer o seguinte:\n",
    "   1. Passo de propagação (*forward step*): calcule a saída da rede $\\hat{y}^{(i)}$ para as respectivas entradas $x_1^{(i)}$ e $x_2^{(i)}$\n",
    "   1. Para o parâmetro $w_1$, calcule $\\Delta w_1^{(i-1)}$, conforme equação (3) acima\n",
    "   1. Para o parâmetro $w_2$, calcule $\\Delta w_2^{(i-1)}$, conforme equação (3) acima\n",
    "   1. Para o parâmetro $b$, calcule $\\Delta b^{(i-1)}$, conforme equação (4) acima\n",
    "   1. Calcule o novo valor $w_1^{(i)}$, baseado em $\\Delta w_1^{(i-1)}$ e $\\Delta w_1^{(i-1)}$, conforme equação (2) acima\n",
    "   1. Calcule o novo valor $w_2^{(i)}$, baseado em $\\Delta w_2^{(i-1)}$ e $\\Delta w_2^{(i-1)}$, conforme equação (2) acima\n",
    "   1. Calcule o novo valor $b^{(i)}$, baseado em $\\Delta b^{(i-1)}$ e $\\Delta b^{(i-1)}$, conforme equação (1) acima\n",
    "   1. faça os passos anteriores para a próxima amostra\n",
    "1. O laço descrito anteriormente deve percorrer os dados de treinamento de forma aleatória! Os dados não podem sers percorridos na ordem de apresentação dos dados. Para fazer isso, use a função `np.random.permutation`\n",
    "1. Gere 50 amostras de validação (copie a forma de gerar dados da primeira parte) e faça um gráfico mostrando todos os dados de teste (como foi feito na primeira parte desta atividade) e dois limiares de separação: i) aquele referente aos pesos iniciais **antes** do treinamento obtido pelo treinamento; ii) o limiar de separação obtido **após** o treinamento"
   ]
  },
  {
   "cell_type": "code",
   "execution_count": null,
   "metadata": {},
   "outputs": [],
   "source": [
    "### SEU CÓDIGO COMEÇA AQUI ###\n",
    "\n",
    "### FIM DO CÓDIGO ###"
   ]
  },
  {
   "cell_type": "markdown",
   "metadata": {},
   "source": [
    "**Saída esperada**:\n",
    "gráfico, similar ao da primeira parte desta atividade, mostrando dois limiares de separação: um **antes** e outro **após** o treinamento do perceptron.\n",
    "___\n",
    "\n",
    "## Desafio! (opcional, você não perderá nenhum ponto se deixar de fazer essa parte)\n",
    "\n",
    "Se este trabalho foi fácil para você até aqui, você pode tentar um novo desafio: utilizar o algoritmo de aprendizado implementado nos dados da Iris. Esses dados podem ser obtidos no site https://archive.ics.uci.edu/ml/datasets/Iris, que contém também uma descrição mais completa do problema.\n",
    "\n",
    "Implemente o algoritmo de aprendizado fazendo os ajustes necessários. Ao final, mostre o ressultado do algoritmo de aprendizado para os **dados de validação**. Não se esqueça de segregar o conjunto de dados em: treinamento (~80%) e validação (~20%). Mostre o percentual de acerto nesses dados.\n",
    "\n",
    "Bom trabalho!"
   ]
  },
  {
   "cell_type": "code",
   "execution_count": null,
   "metadata": {},
   "outputs": [],
   "source": [
    "### SEU CÓDIGO COMEÇA AQUI ###\n",
    "\n",
    "### FIM DO CÓDIGO ###"
   ]
  },
  {
   "cell_type": "markdown",
   "metadata": {},
   "source": [
    "**Saída esperada**:\n",
    "índice de acerto nos dados de validação.\n",
    "___"
   ]
  },
  {
   "cell_type": "markdown",
   "metadata": {},
   "source": [
    "\n",
    "\n",
    "# Conclusões\n",
    "\n",
    "Escreva aqui, em linguagem `markdown`, suas considerações sobre o que foi aprendido nesse trabalho prático.\n",
    "\n",
    "*### escreva aqui ###*"
   ]
  }
 ],
 "metadata": {
  "kernelspec": {
   "display_name": "Python 3",
   "language": "python",
   "name": "python3"
  },
  "language_info": {
   "codemirror_mode": {
    "name": "ipython",
    "version": 3
   },
   "file_extension": ".py",
   "mimetype": "text/x-python",
   "name": "python",
   "nbconvert_exporter": "python",
   "pygments_lexer": "ipython3",
   "version": "3.6.3"
  },
  "toc": {
   "nav_menu": {
    "height": "228px",
    "width": "370px"
   },
   "number_sections": true,
   "sideBar": true,
   "skip_h1_title": false,
   "title_cell": "Table of Contents",
   "title_sidebar": "Contents",
   "toc_cell": false,
   "toc_position": {},
   "toc_section_display": true,
   "toc_window_display": false
  }
 },
 "nbformat": 4,
 "nbformat_minor": 2
}
